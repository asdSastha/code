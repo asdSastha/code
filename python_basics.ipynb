{
  "nbformat": 4,
  "nbformat_minor": 0,
  "metadata": {
    "colab": {
      "name": "python_basics.ipynb",
      "provenance": [],
      "collapsed_sections": [],
      "authorship_tag": "ABX9TyMpmZrx6TXNTDBgavsGjDSb",
      "include_colab_link": true
    },
    "kernelspec": {
      "name": "python3",
      "display_name": "Python 3"
    },
    "language_info": {
      "name": "python"
    }
  },
  "cells": [
    {
      "cell_type": "markdown",
      "metadata": {
        "id": "view-in-github",
        "colab_type": "text"
      },
      "source": [
        "<a href=\"https://colab.research.google.com/github/asdSastha/code/blob/master/python_basics.ipynb\" target=\"_parent\"><img src=\"https://colab.research.google.com/assets/colab-badge.svg\" alt=\"Open In Colab\"/></a>"
      ]
    },
    {
      "cell_type": "markdown",
      "metadata": {
        "id": "fTlCdMF3eP21"
      },
      "source": [
        "# Python Basics\n",
        "\n",
        "This is a language designed for people who want to program but who do not want to learn programming. Well this might sound like a joke and even the designer of the python **Guo Van Rossum** felt it funny so he named it on a satairical movie called **Monty Python's Flying Circus**. \n",
        "\n",
        " The python is developed so that the user can learn it easily and that is the very reason why this is widely used in prototyping. This is used in many fields like ML. AI etc.\n",
        " \n",
        " Unlike C/C++ or Java python works on an interpreter. and like C++ it is object oriented at the same time we write procedural code.\n",
        " \n",
        "\n",
        " ## Installing Python in Linux\n",
        "\n",
        "### Linux \n",
        "```\n",
        "$ sudo apt-get install python3\n",
        "```\n",
        "Note: We need python3 as python2's support is stopped from 2020.\n",
        "\n",
        "### Windows\n",
        "Go to this link and install the package.\n",
        "https://www.python.org/downloads/\n",
        "\n",
        "\n",
        "## IDe\n",
        "There are a lot of IDEs available but my personal favorites are **VsCode** and **Eclipse**, for wondows it is **Visual Studio**. If you want terminal based editors I would recommend **Vim** and **emacs**\n",
        "\n",
        "## Opening Interpreter\n",
        "\n",
        "### Linux\n",
        "  Type python in shell \n",
        "```\n",
        "$ python \n",
        "Python 2.7.17 (default, Feb 27 2021, 15:10:58) \n",
        "[GCC 7.5.0] on linux2\n",
        "Type \"help\", \"copyright\", \"credits\" or \"license\" for more information.\n",
        ">>> \n",
        "```\n",
        "### Window \n",
        "  Run python executable or run from command prompt\n"
      ]
    },
    {
      "cell_type": "markdown",
      "metadata": {
        "id": "Bo8fBZZWi4vm"
      },
      "source": [
        "\n",
        "## Arithmatic Operations in python\n",
        "\n",
        "Here are few basic arithmatic operations in python.\n",
        "\n",
        "* Addition :\n",
        "\n",
        "```\n",
        ">>> 2+3\n",
        "5\n",
        "```\n",
        "* Subtraction\n",
        "\n",
        "```\n",
        ">>> 2-3\n",
        "-1\n",
        "```\n",
        "\n",
        "* Multiplication\n",
        "\n",
        "```\n",
        ">>> 5*2\n",
        "10\n",
        "```\n",
        "\n",
        "* Division and Division Floor\n",
        "\n",
        "```\n",
        ">>> 5/2\n",
        "2\n",
        ">>> 5//2\n",
        "2\n",
        ">>> 5//2.0\n",
        "2.0\n",
        ">>> 5/2.0\n",
        "2.5\n",
        "```\n",
        "\n",
        "* Modulus\n",
        "\n",
        "```\n",
        ">>> 5%2.0\n",
        "1.0\n",
        "```\n",
        "\n",
        "* Power\n",
        "\n",
        "```\n",
        ">>> 5**2\n",
        "25\n",
        "```\n",
        "\n",
        "Most of the normal arithmatics work and python do follow bodmas rule. and python honors BODMAS rule"
      ]
    },
    {
      "cell_type": "markdown",
      "metadata": {
        "id": "Hnz2sE9LpS9r"
      },
      "source": [
        ""
      ]
    },
    {
      "cell_type": "markdown",
      "metadata": {
        "id": "pN4A-IPWmEvR"
      },
      "source": [
        "## Strings in python\n",
        "\n",
        "Python supprots strings and only catch is the inverted braces.. we can use single quote or double quote to create a string. If you have a string that contains single quote you can use double quotes and vice versa.print('python's'). However escape sequences work"
      ]
    },
    {
      "cell_type": "code",
      "metadata": {
        "colab": {
          "base_uri": "https://localhost:8080/",
          "height": 129
        },
        "id": "0HyOHR3OmiNa",
        "outputId": "d22d74ee-2b5e-4800-a66c-22edd44a9599"
      },
      "source": [
        "print('python's') # this will throw an error."
      ],
      "execution_count": null,
      "outputs": [
        {
          "output_type": "error",
          "ename": "SyntaxError",
          "evalue": "ignored",
          "traceback": [
            "\u001b[0;36m  File \u001b[0;32m\"<ipython-input-1-6c8db578148c>\"\u001b[0;36m, line \u001b[0;32m1\u001b[0m\n\u001b[0;31m    print('python's')\u001b[0m\n\u001b[0m                  ^\u001b[0m\n\u001b[0;31mSyntaxError\u001b[0m\u001b[0;31m:\u001b[0m invalid syntax\n"
          ]
        }
      ]
    },
    {
      "cell_type": "code",
      "metadata": {
        "id": "CuqYibhKe0wd",
        "colab": {
          "base_uri": "https://localhost:8080/"
        },
        "outputId": "ef82910f-5211-4bf7-e303-e802a8264a6f"
      },
      "source": [
        "print(\"python's\")\n",
        "print('He said \"Hi\"')\n",
        "print('python\\'s')"
      ],
      "execution_count": null,
      "outputs": [
        {
          "output_type": "stream",
          "text": [
            "python's\n",
            "He said \"Hi\"\n",
            "python's\n"
          ],
          "name": "stdout"
        }
      ]
    },
    {
      "cell_type": "code",
      "metadata": {
        "colab": {
          "base_uri": "https://localhost:8080/"
        },
        "id": "-RwyUFuXnSET",
        "outputId": "59c4c280-91d0-44e3-b813-2e511fb2de75"
      },
      "source": [
        "my_string = 'Hello'\n",
        "print(my_string)\n",
        "\n",
        "my_string = \"Hello\"\n",
        "print(my_string)\n",
        "\n",
        "# Multiline sttring\n",
        "my_string = '''\n",
        "====================\n",
        "Hello World !!!\n",
        "===================\n",
        "'''\n",
        "print(my_string)\n",
        "\n",
        "my_string = \"\"\"\n",
        "     Hello, welcome to\n",
        "the world of Python Programming\n",
        "\"\"\"\n",
        "print(my_string)"
      ],
      "execution_count": null,
      "outputs": [
        {
          "output_type": "stream",
          "text": [
            "Hello\n",
            "Hello\n",
            "\n",
            "====================\n",
            "Hello World !!!\n",
            "===================\n",
            "\n",
            "\n",
            "     Hello, welcome to\n",
            "the world of Python Programming\n",
            "\n"
          ],
          "name": "stdout"
        }
      ]
    },
    {
      "cell_type": "markdown",
      "metadata": {
        "id": "TW8eqtxynRbO"
      },
      "source": [
        ""
      ]
    },
    {
      "cell_type": "markdown",
      "metadata": {
        "id": "pW4zZc2zns3A"
      },
      "source": [
        "#### Accessing Characters in Strings\n",
        "\n",
        "Just like in C/C++ string is an array of characters and we can access elements by indexing in square brackets.\n",
        "\n",
        "Note:\n",
        "1. Index must be in range \n",
        "```\n",
        ">>> my_string = 'programiz'\n",
        ">>> my_string[5] = 'a'\n",
        "...\n",
        "TypeError: 'str' object does not support item assignment\n",
        ">>> my_string = 'Python'\n",
        ">>> my_string\n",
        "'Python'\n",
        "```\n",
        "2. deleting a single caracter using delete keyworkd\n",
        "```\n",
        ">>> del my_string[1]\n",
        "...\n",
        "TypeError: 'str' object doesn't support item deletion\n",
        ">>> del my_string\n",
        ">>> my_string\n",
        "...\n",
        "NameError: name 'my_string' is not defined\n",
        "\n",
        "```"
      ]
    },
    {
      "cell_type": "code",
      "metadata": {
        "colab": {
          "base_uri": "https://localhost:8080/"
        },
        "id": "t32XFeWLn5IN",
        "outputId": "abac901d-fce4-4231-8aa6-c3b3fb745912"
      },
      "source": [
        "\n",
        "str = 'abcdefghijklmnopqrstuvwxyz'\n",
        "print('str = ', str)\n",
        "\n",
        "#first character\n",
        "print('str[0] = ', str[0])\n",
        "\n",
        "#last character\n",
        "print('str[-1] = ', str[-1])\n",
        "\n",
        "#slicing 3rd to 6th character\n",
        "print('str[2:6] = ', str[1:5])\n",
        "\n",
        "#slicing 6th to 2nd last character\n",
        "print('str[5:-2] = ', str[5:-2])\n"
      ],
      "execution_count": null,
      "outputs": [
        {
          "output_type": "stream",
          "text": [
            "str =  abcdefghijklmnopqrstuvwxyz\n",
            "str[0] =  a\n",
            "str[-1] =  z\n",
            "str[2:6] =  bcde\n",
            "str[5:-2] =  fghijklmnopqrstuvwx\n"
          ],
          "name": "stdout"
        }
      ]
    }
  ]
}